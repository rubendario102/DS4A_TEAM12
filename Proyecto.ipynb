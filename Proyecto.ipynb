{
 "cells": [
  {
   "cell_type": "code",
   "execution_count": 1,
   "metadata": {},
   "outputs": [],
   "source": [
    "import pandas as pd"
   ]
  },
  {
   "cell_type": "code",
   "execution_count": 2,
   "metadata": {},
   "outputs": [],
   "source": [
    "df = pd.read_csv(\"beauty_metadata.csv\")"
   ]
  },
  {
   "cell_type": "code",
   "execution_count": 4,
   "metadata": {},
   "outputs": [
    {
     "data": {
      "text/html": [
       "<div>\n",
       "<style scoped>\n",
       "    .dataframe tbody tr th:only-of-type {\n",
       "        vertical-align: middle;\n",
       "    }\n",
       "\n",
       "    .dataframe tbody tr th {\n",
       "        vertical-align: top;\n",
       "    }\n",
       "\n",
       "    .dataframe thead th {\n",
       "        text-align: right;\n",
       "    }\n",
       "</style>\n",
       "<table border=\"1\" class=\"dataframe\">\n",
       "  <thead>\n",
       "    <tr style=\"text-align: right;\">\n",
       "      <th></th>\n",
       "      <th>title</th>\n",
       "      <th>brand</th>\n",
       "      <th>rank</th>\n",
       "      <th>asin</th>\n",
       "      <th>description</th>\n",
       "      <th>also_view</th>\n",
       "      <th>also_buy</th>\n",
       "      <th>price</th>\n",
       "      <th>similar_item</th>\n",
       "    </tr>\n",
       "  </thead>\n",
       "  <tbody>\n",
       "    <tr>\n",
       "      <th>0</th>\n",
       "      <td>Workout Headphones by Arena Essentials</td>\n",
       "      <td>HarperCollins</td>\n",
       "      <td>3235148.0</td>\n",
       "      <td>0061073717</td>\n",
       "      <td>NaN</td>\n",
       "      <td>NaN</td>\n",
       "      <td>NaN</td>\n",
       "      <td>NaN</td>\n",
       "      <td>NaN</td>\n",
       "    </tr>\n",
       "    <tr>\n",
       "      <th>1</th>\n",
       "      <td>Black Diamond</td>\n",
       "      <td>Swedish Beauty</td>\n",
       "      <td>1462563.0</td>\n",
       "      <td>0143026860</td>\n",
       "      <td>['This is the NEW PURPLE BOTTLE that just came...</td>\n",
       "      <td>['B000LXTNMW']</td>\n",
       "      <td>NaN</td>\n",
       "      <td>NaN</td>\n",
       "      <td>NaN</td>\n",
       "    </tr>\n",
       "    <tr>\n",
       "      <th>2</th>\n",
       "      <td>12 Pc BLUE HEAVEN KAJAL\"HERBAL kajal With VITA...</td>\n",
       "      <td>BLUE HEAVE</td>\n",
       "      <td>100425.0</td>\n",
       "      <td>014789302X</td>\n",
       "      <td>['A brand-new, unused, unopened, undamaged ite...</td>\n",
       "      <td>['B00OWT3W28', 'B0796RMSV8', 'B010E1X15K', 'B0...</td>\n",
       "      <td>['B00OWT3W28', 'B010E1X15K', 'B0796RMSV8', 'B0...</td>\n",
       "      <td>6.45</td>\n",
       "      <td>NaN</td>\n",
       "    </tr>\n",
       "    <tr>\n",
       "      <th>3</th>\n",
       "      <td>The Inheritance</td>\n",
       "      <td>Sunatoria</td>\n",
       "      <td>476831.0</td>\n",
       "      <td>0571348351</td>\n",
       "      <td>[\"You have to wonder why there isn't a word in...</td>\n",
       "      <td>['0571352367', '0573697094', '1635571766', '15...</td>\n",
       "      <td>['1848426380', 'B07JVF7M3C', '1644450003', '16...</td>\n",
       "      <td>NaN</td>\n",
       "      <td>NaN</td>\n",
       "    </tr>\n",
       "    <tr>\n",
       "      <th>4</th>\n",
       "      <td>The Listening Cards</td>\n",
       "      <td>Listening Planet</td>\n",
       "      <td>2967592.0</td>\n",
       "      <td>0692508988</td>\n",
       "      <td>['The Listening Cards are an eloquent primer i...</td>\n",
       "      <td>NaN</td>\n",
       "      <td>NaN</td>\n",
       "      <td>NaN</td>\n",
       "      <td>NaN</td>\n",
       "    </tr>\n",
       "  </tbody>\n",
       "</table>\n",
       "</div>"
      ],
      "text/plain": [
       "                                               title             brand  \\\n",
       "0             Workout Headphones by Arena Essentials     HarperCollins   \n",
       "1                                      Black Diamond    Swedish Beauty   \n",
       "2  12 Pc BLUE HEAVEN KAJAL\"HERBAL kajal With VITA...        BLUE HEAVE   \n",
       "3                                    The Inheritance         Sunatoria   \n",
       "4                                The Listening Cards  Listening Planet   \n",
       "\n",
       "        rank        asin                                        description  \\\n",
       "0  3235148.0  0061073717                                                NaN   \n",
       "1  1462563.0  0143026860  ['This is the NEW PURPLE BOTTLE that just came...   \n",
       "2   100425.0  014789302X  ['A brand-new, unused, unopened, undamaged ite...   \n",
       "3   476831.0  0571348351  [\"You have to wonder why there isn't a word in...   \n",
       "4  2967592.0  0692508988  ['The Listening Cards are an eloquent primer i...   \n",
       "\n",
       "                                           also_view  \\\n",
       "0                                                NaN   \n",
       "1                                     ['B000LXTNMW']   \n",
       "2  ['B00OWT3W28', 'B0796RMSV8', 'B010E1X15K', 'B0...   \n",
       "3  ['0571352367', '0573697094', '1635571766', '15...   \n",
       "4                                                NaN   \n",
       "\n",
       "                                            also_buy  price similar_item  \n",
       "0                                                NaN    NaN          NaN  \n",
       "1                                                NaN    NaN          NaN  \n",
       "2  ['B00OWT3W28', 'B010E1X15K', 'B0796RMSV8', 'B0...   6.45          NaN  \n",
       "3  ['1848426380', 'B07JVF7M3C', '1644450003', '16...    NaN          NaN  \n",
       "4                                                NaN    NaN          NaN  "
      ]
     },
     "execution_count": 4,
     "metadata": {},
     "output_type": "execute_result"
    }
   ],
   "source": [
    "df.head()"
   ]
  },
  {
   "cell_type": "code",
   "execution_count": null,
   "metadata": {},
   "outputs": [],
   "source": []
  },
  {
   "cell_type": "code",
   "execution_count": null,
   "metadata": {},
   "outputs": [],
   "source": []
  }
 ],
 "metadata": {
  "kernelspec": {
   "display_name": "Python 3",
   "language": "python",
   "name": "python3"
  },
  "language_info": {
   "codemirror_mode": {
    "name": "ipython",
    "version": 3
   },
   "file_extension": ".py",
   "mimetype": "text/x-python",
   "name": "python",
   "nbconvert_exporter": "python",
   "pygments_lexer": "ipython3",
   "version": "3.6.7"
  }
 },
 "nbformat": 4,
 "nbformat_minor": 2
}
